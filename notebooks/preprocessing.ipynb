{
 "cells": [
  {
   "cell_type": "code",
   "execution_count": null,
   "metadata": {},
   "outputs": [],
   "source": [
    "import pandas as pd\n",
    "import numpy as np\n",
    "import matplotlib.pyplot as plt\n",
    "import sklearn\n",
    "import statistics\n",
    "import warnings\n",
    "import seaborn as sns\n",
    "import random as rd\n",
    "import sys\n",
    "import json\n",
    "import re\n",
    "\n",
    "\n",
    "sys.path.append('../scripts')\n",
    "from pickle_file_handlers import HandlePickle\n",
    "from cleaner import CleanDataFrame\n",
    "from plotter import Plotter\n",
    "from logger import logger\n",
    "from db_api import Database_api"
   ]
  },
  {
   "cell_type": "code",
   "execution_count": null,
   "metadata": {},
   "outputs": [],
   "source": [
    "# Create cleaner module and plotter module classes\n",
    "cleaner = CleanDataFrame()\n",
    "db_api = Database_api()\n",
    "plotter = Plotter()\n",
    "pickle_handler = HandlePickle()"
   ]
  },
  {
   "cell_type": "code",
   "execution_count": null,
   "metadata": {},
   "outputs": [],
   "source": [
    "warehouse = db_api.get_db_data_from_table_name('warehouse')"
   ]
  },
  {
   "cell_type": "code",
   "execution_count": null,
   "metadata": {},
   "outputs": [],
   "source": [
    "warehouse.info()"
   ]
  },
  {
   "cell_type": "code",
   "execution_count": null,
   "metadata": {},
   "outputs": [],
   "source": [
    "clean_warehouse = warehouse[warehouse[\"row_num\"]==1]\n",
    "clean_warehouse"
   ]
  },
  {
   "cell_type": "code",
   "execution_count": null,
   "metadata": {},
   "outputs": [],
   "source": [
    "clean_warehouse.columns"
   ]
  },
  {
   "cell_type": "code",
   "execution_count": null,
   "metadata": {},
   "outputs": [],
   "source": [
    "store_df = cleaner.fix_datatypes(clean_warehouse)"
   ]
  },
  {
   "cell_type": "code",
   "execution_count": null,
   "metadata": {},
   "outputs": [],
   "source": [
    "clean_warehouse.loc[clean_warehouse['platform_os']==\"Android\" , 'platform_os'] = 0\n",
    "clean_warehouse.loc[clean_warehouse['platform_os'] == \"Android\", 'platform_os'] = 0\n",
    "clean_warehouse.loc[clean_warehouse['width']==\"%\" , 'width'] = 300\n",
    "clean_warehouse.loc[clean_warehouse['height'] == \"%\", 'height'] = 300\n",
    "clean_warehouse['width'] = pd.to_numeric(clean_warehouse['width'], errors='coerce')\n",
    "clean_warehouse['height'] = pd.to_numeric(clean_warehouse['height'], errors='coerce')\n",
    "clean_warehouse[['percentage','net_cost','flat_fee','gross_costbudget','volume_agreed','buy_rate_cpe','platform_os','width','height']] = clean_warehouse[['percentage','net_cost','flat_fee', 'gross_costbudget','volume_agreed','buy_rate_cpe','platform_os','width','height']].astype(\"float64\")"
   ]
  },
  {
   "cell_type": "code",
   "execution_count": null,
   "metadata": {},
   "outputs": [],
   "source": [
    "clean_warehouse[[\"device_type\",\"type\",\"campaign_id\" , \"creative_id\",\"geo_country\",\"site_name\",\"agency_fee\" , \"serving_locations\",\"cost_centre\",\"currency\",\"browser\"]] = clean_warehouse[[\"device_type\",\"type\",\"campaign_id\" ,\"creative_id\",\"geo_country\",\"site_name\",\"agency_fee\" , \"serving_locations\",\"cost_centre\",\"currency\",\"browser\"]].astype(\"object\")"
   ]
  },
  {
   "cell_type": "code",
   "execution_count": null,
   "metadata": {},
   "outputs": [],
   "source": [
    "clean_warehouse[\"submission_date\"] = pd.to_datetime(clean_warehouse[\"submission_date\"])\n",
    "clean_warehouse[\"enddate\"] = pd.to_datetime(clean_warehouse[\"enddate\"])\n",
    "clean_warehouse[\"startdate\"] = pd.to_datetime(clean_warehouse[\"startdate\"])"
   ]
  },
  {
   "cell_type": "code",
   "execution_count": null,
   "metadata": {},
   "outputs": [],
   "source": [
    "cleaner.percent_missing(clean_warehouse)"
   ]
  },
  {
   "cell_type": "code",
   "execution_count": null,
   "metadata": {},
   "outputs": [],
   "source": [
    "clean_warehouse.info()"
   ]
  },
  {
   "cell_type": "code",
   "execution_count": null,
   "metadata": {},
   "outputs": [],
   "source": [
    "clean_warehouse.drop(columns=[\"flat_fee\"], inplace=True)"
   ]
  },
  {
   "cell_type": "code",
   "execution_count": null,
   "metadata": {},
   "outputs": [],
   "source": [
    "clean_warehouse.isna().sum()"
   ]
  },
  {
   "cell_type": "code",
   "execution_count": null,
   "metadata": {},
   "outputs": [],
   "source": [
    "# store_df  = cleaner.fix_missing_values(store_df,['PromoInterval'],\"Nan,Nan,Nan,Nan\") \n",
    "clean_warehouse.loc[clean_warehouse[\"percentage\"].isna(),\"percentage\"] = 100"
   ]
  },
  {
   "cell_type": "code",
   "execution_count": null,
   "metadata": {},
   "outputs": [],
   "source": [
    "clean_warehouse.loc[clean_warehouse[\"buy_rate_cpe\"].isna(),\"buy_rate_cpe\"] = 0\n",
    "clean_warehouse.loc[clean_warehouse[\"volume_agreed\"].isna(),\"volume_agreed\"] = 0\n",
    "clean_warehouse.loc[clean_warehouse[\"gross_costbudget\"].isna(),\"gross_costbudget\"] = 0"
   ]
  },
  {
   "cell_type": "code",
   "execution_count": null,
   "metadata": {},
   "outputs": [],
   "source": [
    "clean_warehouse.dropna(inplace=True)\n",
    "clean_warehouse.loc[clean_warehouse[\"agency_fee\"].isna()]"
   ]
  },
  {
   "cell_type": "code",
   "execution_count": null,
   "metadata": {},
   "outputs": [],
   "source": [
    "clean_warehouse = cleaner.drop_duplicates(clean_warehouse)"
   ]
  },
  {
   "cell_type": "code",
   "execution_count": null,
   "metadata": {},
   "outputs": [],
   "source": [
    "clean_warehouse['labels'] =  clean_warehouse['labels'].apply(lambda x: json.loads('{\"engagement\": [], \"click_through\": []}') if x == None else json.loads(x.replace(\"'\",\"\\\"\")))\n",
    "clean_warehouse[['labels_engagement','labels_click_through']] = clean_warehouse['labels'].apply(\n",
    "    lambda x: pd.Series ([\",\".join(x['engagement']), \",\".join(x['click_through'])]))\n",
    "clean_warehouse.head(20)"
   ]
  },
  {
   "cell_type": "code",
   "execution_count": null,
   "metadata": {},
   "outputs": [],
   "source": [
    "clean_warehouse['text'] =  clean_warehouse['text'].apply(lambda x: \"{'engagement': [], 'click_through': []}\" if x == None else x)\n",
    "clean_warehouse['text']  = clean_warehouse['text'].apply(lambda x: json.loads(re.sub( \"(?<={)\\'|\\'(?=})|(?<=\\[)\\'|\\'(?=\\])|\\'(?=:)|(?<=: )\\'|\\'(?=,)|(?<=, )\\'\", \"\\\"\", x.replace(\"'\\\"\",\"'\"))))\n",
    "clean_warehouse[['text_engagement','text_click_through']] = clean_warehouse['text'].apply(\n",
    "    lambda x: pd.Series ([\",\".join(x['engagement']), \",\".join(x['click_through'])]))\n",
    "clean_warehouse['text'].head(20)"
   ]
  },
  {
   "cell_type": "code",
   "execution_count": null,
   "metadata": {},
   "outputs": [],
   "source": []
  }
 ],
 "metadata": {
  "kernelspec": {
   "display_name": "Python 3.8.13 ('airflow_env')",
   "language": "python",
   "name": "python3"
  },
  "language_info": {
   "name": "python",
   "version": "3.8.13"
  },
  "orig_nbformat": 4,
  "vscode": {
   "interpreter": {
    "hash": "4960789a6285b1dd6f70ce1380d5fffd59f5d1b1b13e1ff77e3426c5537c706d"
   }
  }
 },
 "nbformat": 4,
 "nbformat_minor": 2
}
