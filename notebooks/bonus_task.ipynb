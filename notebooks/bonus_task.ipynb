{
 "cells": [
  {
   "cell_type": "code",
   "execution_count": null,
   "metadata": {},
   "outputs": [],
   "source": [
    "import PIL\n",
    "from PIL import Image\n",
    "# import requests\n",
    "from io import BytesIO\n",
    "import webcolors\n",
    "import pandas as pd\n",
    "import cv2\n",
    "import pytesseract"
   ]
  },
  {
   "cell_type": "code",
   "execution_count": null,
   "metadata": {},
   "outputs": [],
   "source": [
    "image = cv2.imread('./Technical Test Aug_2022-20220806T184210Z-001/Technical Test Aug_2022/Creative Assets_/adunit-winamax-vandals-du-ble-mpu-78cd6fb7ab77e365190d.png')"
   ]
  },
  {
   "cell_type": "code",
   "execution_count": null,
   "metadata": {},
   "outputs": [],
   "source": [
    "gray = cv2.cvtColor(image, cv2.COLOR_BGR2GRAY)\n",
    "ret, thresh1 = cv2.threshold(gray, 0, 255, cv2.THRESH_OTSU | cv2.THRESH_BINARY_INV)\n",
    "rect_kernel = cv2.getStructuringElement(cv2.MORPH_RECT, (18, 18))\n",
    "dilation = cv2.dilate(thresh1, rect_kernel, iterations = 1)\n",
    "contours, hierarchy = cv2.findContours(dilation, cv2.RETR_EXTERNAL,\n",
    "                                                 cv2.CHAIN_APPROX_NONE)\n",
    "im2 = image.copy()"
   ]
  },
  {
   "cell_type": "code",
   "execution_count": null,
   "metadata": {},
   "outputs": [],
   "source": [
    "string_array = []\n",
    "for cnt in contours:\n",
    "    # print(\"once\")\n",
    "    x, y, w, h = cv2.boundingRect(cnt)\n",
    "     \n",
    "    # Drawing a rectangle on copied image\n",
    "    rect = cv2.rectangle(im2, (x, y), (x + w, y + h), (0, 255, 0), 2)\n",
    "     \n",
    "    # Cropping the text block for giving input to OCR\n",
    "    cropped = im2[y:y + h, x:x + w]\n",
    "    text = pytesseract.image_to_string(cropped)\n",
    "    string_array.append(text)\n",
    "    # print(text)\n",
    "print(string_array)\n",
    "clean_array = []\n",
    "for s in string_array:\n",
    "    clean_array.append(str(s).replace(\"\\n\" , \" \").replace(\"\\x0c\", \"\").replace(\"  \" , \" \").strip())\n",
    "print(clean_array)\n",
    "print(len(contours))\n"
   ]
  },
  {
   "cell_type": "code",
   "execution_count": null,
   "metadata": {},
   "outputs": [],
   "source": [
    "img = Image.open('./Technical Test Aug_2022-20220806T184210Z-001/Technical Test Aug_2022/Creative Assets_/adunit-winamax-vandals-du-ble-mpu-78cd6fb7ab77e365190d.png')\n",
    "img"
   ]
  },
  {
   "cell_type": "code",
   "execution_count": null,
   "metadata": {},
   "outputs": [],
   "source": [
    "def closest_colour(requested_colour):\n",
    "    min_colours = {}\n",
    "    for key, name in webcolors.CSS3_HEX_TO_NAMES.items():\n",
    "        r_c, g_c, b_c = webcolors.hex_to_rgb(key)\n",
    "        rd = (r_c - requested_colour[0]) ** 2\n",
    "        gd = (g_c - requested_colour[1]) ** 2\n",
    "        bd = (b_c - requested_colour[2]) ** 2\n",
    "        min_colours[(rd + gd + bd)] = requested_colour\n",
    "    return min_colours[min(min_colours.keys())]"
   ]
  },
  {
   "cell_type": "code",
   "execution_count": null,
   "metadata": {},
   "outputs": [],
   "source": [
    "def top_colos(image, n):\n",
    "    # convert the image to rgb\n",
    "    image = image.convert('RGB')\n",
    "     \n",
    "    # resize the image to 300 x 300\n",
    "    # image = image.resize((300,300))\n",
    "     \n",
    "    detected_colors =[]\n",
    "    for x in range(image.width):\n",
    "        for y in range(image.height):\n",
    "            detected_colors.append(closest_colour(image.getpixel((x,y))))\n",
    "    Series_Colors = pd.Series(detected_colors)\n",
    "    output=Series_Colors.value_counts()/len(Series_Colors)\n",
    "    return(output.head(n))\n",
    " \n",
    " \n",
    "top_colos(img,10)"
   ]
  }
 ],
 "metadata": {
  "kernelspec": {
   "display_name": "Python 3.8.13 ('airflow_env')",
   "language": "python",
   "name": "python3"
  },
  "language_info": {
   "name": "python",
   "version": "3.8.13"
  },
  "orig_nbformat": 4,
  "vscode": {
   "interpreter": {
    "hash": "4960789a6285b1dd6f70ce1380d5fffd59f5d1b1b13e1ff77e3426c5537c706d"
   }
  }
 },
 "nbformat": 4,
 "nbformat_minor": 2
}
